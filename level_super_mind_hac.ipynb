{
 "cells": [
  {
   "cell_type": "code",
   "execution_count": null,
   "id": "70c42d0b-fc5b-4500-a0bc-728d826282a2",
   "metadata": {},
   "outputs": [],
   "source": [
    "import praw\n",
    "import pandas as pd\n",
    "\n",
    "# Reddit API credentials\n",
    "reddit = praw.Reddit(\n",
    "    client_id=\"BfZVabUYcp5XRUBOY3KFig\",         # Replace with your client_id\n",
    "    client_secret=\"uj9HE6L8vkYKE723GfkJDrQjlTZykA\", # Replace with your client_secret\n",
    "   user_agent=\"'my_ecommerce_scraper:v1.0 (by u/AVNSKSAI)'\"       # Replace with your user_agent\n",
    ")\n",
    "\n",
    "# Keywords to search for\n",
    "keywords = [\"Zepto\", \"Blinkit\", \"BigBasket\", \"JioMart\", \"Instamart\", \"Dunzo\"]\n",
    "\n",
    "# Subreddits to target\n",
    "subreddits = [\"India\", \"bangalore\", \"delhi\", \"mumbai\", \"chennai\", \"StartUpIndia\"]\n",
    "\n",
    "# Data collection\n",
    "scraped_data = []\n",
    "for subreddit in subreddits:\n",
    "    print(f\"Fetching from r/{subreddit}...\")\n",
    "    for keyword in keywords:\n",
    "        for submission in reddit.subreddit(subreddit).search(keyword, limit=10):\n",
    "            submission.comments.replace_more(limit=0)  # Load all comments\n",
    "            for comment in submission.comments.list():\n",
    "                scraped_data.append({\n",
    "                    \"Subreddit\": subreddit,\n",
    "                    \"Keyword\": keyword,\n",
    "                    \"Post Title\": submission.title,\n",
    "                    \"Comment\": comment.body,\n",
    "                    \"Score\": comment.score,\n",
    "                    \"URL\": submission.url\n",
    "                })\n",
    "\n",
    "# Save to CSV\n",
    "df = pd.DataFrame(scraped_data)\n",
    "df.to_csv(\"reddit_comments.csv\", index=False)\n",
    "print(\"Data saved to 'reddit_comments.csv'\")"
   ]
  }
 ],
 "metadata": {
  "kernelspec": {
   "display_name": "Python 3 (ipykernel)",
   "language": "python",
   "name": "python3"
  },
  "language_info": {
   "codemirror_mode": {
    "name": "ipython",
    "version": 3
   },
   "file_extension": ".py",
   "mimetype": "text/x-python",
   "name": "python",
   "nbconvert_exporter": "python",
   "pygments_lexer": "ipython3",
   "version": "3.9.6"
  }
 },
 "nbformat": 4,
 "nbformat_minor": 5
}
